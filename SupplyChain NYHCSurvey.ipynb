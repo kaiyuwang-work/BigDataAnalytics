{
 "cells": [
  {
   "cell_type": "code",
   "execution_count": 1,
   "metadata": {},
   "outputs": [],
   "source": [
    "import pandas as pd\n",
    "import numpy as np\n",
    "from sklearn import datasets, linear_model\n",
    "from sklearn.linear_model import LinearRegression\n",
    "import statsmodels.formula.api as sm\n",
    "from scipy import stats\n",
    "import matplotlib.pyplot as plt"
   ]
  },
  {
   "cell_type": "code",
   "execution_count": 2,
   "metadata": {},
   "outputs": [],
   "source": [
    "data = pd.read_csv(\"NYHCSurvey.csv\")\n",
    "data['Max_non59']= data.iloc[:,[2,3,4,5,7]].max(axis=1)"
   ]
  },
  {
   "cell_type": "code",
   "execution_count": 3,
   "metadata": {},
   "outputs": [
    {
     "data": {
      "text/html": [
       "<div>\n",
       "<style scoped>\n",
       "    .dataframe tbody tr th:only-of-type {\n",
       "        vertical-align: middle;\n",
       "    }\n",
       "\n",
       "    .dataframe tbody tr th {\n",
       "        vertical-align: top;\n",
       "    }\n",
       "\n",
       "    .dataframe thead th {\n",
       "        text-align: right;\n",
       "    }\n",
       "</style>\n",
       "<table border=\"1\" class=\"dataframe\">\n",
       "  <thead>\n",
       "    <tr style=\"text-align: right;\">\n",
       "      <th></th>\n",
       "      <th>Client</th>\n",
       "      <th>Type</th>\n",
       "      <th>6am_9am</th>\n",
       "      <th>9am_noon</th>\n",
       "      <th>Noon_2pm</th>\n",
       "      <th>2pm_5pm</th>\n",
       "      <th>5pm_9pm</th>\n",
       "      <th>9pm_close</th>\n",
       "      <th>Max_non59</th>\n",
       "    </tr>\n",
       "  </thead>\n",
       "  <tbody>\n",
       "    <tr>\n",
       "      <td>0</td>\n",
       "      <td>1</td>\n",
       "      <td>1</td>\n",
       "      <td>18</td>\n",
       "      <td>50</td>\n",
       "      <td>41</td>\n",
       "      <td>76</td>\n",
       "      <td>69</td>\n",
       "      <td>41</td>\n",
       "      <td>76</td>\n",
       "    </tr>\n",
       "    <tr>\n",
       "      <td>1</td>\n",
       "      <td>2</td>\n",
       "      <td>1</td>\n",
       "      <td>66</td>\n",
       "      <td>14</td>\n",
       "      <td>86</td>\n",
       "      <td>62</td>\n",
       "      <td>71</td>\n",
       "      <td>46</td>\n",
       "      <td>86</td>\n",
       "    </tr>\n",
       "    <tr>\n",
       "      <td>2</td>\n",
       "      <td>3</td>\n",
       "      <td>1</td>\n",
       "      <td>60</td>\n",
       "      <td>43</td>\n",
       "      <td>43</td>\n",
       "      <td>26</td>\n",
       "      <td>91</td>\n",
       "      <td>58</td>\n",
       "      <td>60</td>\n",
       "    </tr>\n",
       "    <tr>\n",
       "      <td>3</td>\n",
       "      <td>4</td>\n",
       "      <td>1</td>\n",
       "      <td>59</td>\n",
       "      <td>48</td>\n",
       "      <td>62</td>\n",
       "      <td>15</td>\n",
       "      <td>91</td>\n",
       "      <td>15</td>\n",
       "      <td>62</td>\n",
       "    </tr>\n",
       "    <tr>\n",
       "      <td>4</td>\n",
       "      <td>5</td>\n",
       "      <td>1</td>\n",
       "      <td>21</td>\n",
       "      <td>24</td>\n",
       "      <td>59</td>\n",
       "      <td>45</td>\n",
       "      <td>81</td>\n",
       "      <td>131</td>\n",
       "      <td>131</td>\n",
       "    </tr>\n",
       "    <tr>\n",
       "      <td>...</td>\n",
       "      <td>...</td>\n",
       "      <td>...</td>\n",
       "      <td>...</td>\n",
       "      <td>...</td>\n",
       "      <td>...</td>\n",
       "      <td>...</td>\n",
       "      <td>...</td>\n",
       "      <td>...</td>\n",
       "      <td>...</td>\n",
       "    </tr>\n",
       "    <tr>\n",
       "      <td>995</td>\n",
       "      <td>996</td>\n",
       "      <td>3</td>\n",
       "      <td>9</td>\n",
       "      <td>91</td>\n",
       "      <td>101</td>\n",
       "      <td>70</td>\n",
       "      <td>17</td>\n",
       "      <td>24</td>\n",
       "      <td>101</td>\n",
       "    </tr>\n",
       "    <tr>\n",
       "      <td>996</td>\n",
       "      <td>997</td>\n",
       "      <td>3</td>\n",
       "      <td>31</td>\n",
       "      <td>98</td>\n",
       "      <td>85</td>\n",
       "      <td>71</td>\n",
       "      <td>25</td>\n",
       "      <td>12</td>\n",
       "      <td>98</td>\n",
       "    </tr>\n",
       "    <tr>\n",
       "      <td>997</td>\n",
       "      <td>998</td>\n",
       "      <td>3</td>\n",
       "      <td>23</td>\n",
       "      <td>33</td>\n",
       "      <td>43</td>\n",
       "      <td>45</td>\n",
       "      <td>30</td>\n",
       "      <td>23</td>\n",
       "      <td>45</td>\n",
       "    </tr>\n",
       "    <tr>\n",
       "      <td>998</td>\n",
       "      <td>999</td>\n",
       "      <td>3</td>\n",
       "      <td>16</td>\n",
       "      <td>93</td>\n",
       "      <td>42</td>\n",
       "      <td>59</td>\n",
       "      <td>29</td>\n",
       "      <td>26</td>\n",
       "      <td>93</td>\n",
       "    </tr>\n",
       "    <tr>\n",
       "      <td>999</td>\n",
       "      <td>1000</td>\n",
       "      <td>3</td>\n",
       "      <td>34</td>\n",
       "      <td>40</td>\n",
       "      <td>63</td>\n",
       "      <td>49</td>\n",
       "      <td>18</td>\n",
       "      <td>12</td>\n",
       "      <td>63</td>\n",
       "    </tr>\n",
       "  </tbody>\n",
       "</table>\n",
       "<p>1000 rows × 9 columns</p>\n",
       "</div>"
      ],
      "text/plain": [
       "     Client  Type  6am_9am  9am_noon  Noon_2pm  2pm_5pm  5pm_9pm  9pm_close  \\\n",
       "0         1     1       18        50        41       76       69         41   \n",
       "1         2     1       66        14        86       62       71         46   \n",
       "2         3     1       60        43        43       26       91         58   \n",
       "3         4     1       59        48        62       15       91         15   \n",
       "4         5     1       21        24        59       45       81        131   \n",
       "..      ...   ...      ...       ...       ...      ...      ...        ...   \n",
       "995     996     3        9        91       101       70       17         24   \n",
       "996     997     3       31        98        85       71       25         12   \n",
       "997     998     3       23        33        43       45       30         23   \n",
       "998     999     3       16        93        42       59       29         26   \n",
       "999    1000     3       34        40        63       49       18         12   \n",
       "\n",
       "     Max_non59  \n",
       "0           76  \n",
       "1           86  \n",
       "2           60  \n",
       "3           62  \n",
       "4          131  \n",
       "..         ...  \n",
       "995        101  \n",
       "996         98  \n",
       "997         45  \n",
       "998         93  \n",
       "999         63  \n",
       "\n",
       "[1000 rows x 9 columns]"
      ]
     },
     "execution_count": 3,
     "metadata": {},
     "output_type": "execute_result"
    }
   ],
   "source": [
    "data"
   ]
  },
  {
   "cell_type": "code",
   "execution_count": 75,
   "metadata": {},
   "outputs": [],
   "source": [
    "p0,p59= np.arange(35,126),np.arange(35,126)\n",
    "final_table = pd.DataFrame({'p0':[], 'p59':[], 'demand_non59':[], 'demand_59':[]})\n",
    "\n",
    "for index_p0 in p0:\n",
    "#     print(\"index_p0\",index_p0)\n",
    "    for index_p59 in p59:\n",
    "        # Calculate Utility\n",
    "        utility_non59 = data['Max_non59']-index_p0\n",
    "        utility_59 = data['5pm_9pm']-index_p59\n",
    "        \n",
    "        #Calculate demand\n",
    "        demand_non59 = (((utility_non59 > utility_59) & (utility_non59 >= 0))*1).sum()        \n",
    "        demand_59 = (((utility_non59<= utility_59) & (utility_59 >= 0))*1).sum()\n",
    "\n",
    "        #Append to result table\n",
    "        final_table=final_table.append({'p0':index_p0, 'p59':index_p59, \n",
    "                                        'demand_non59': demand_non59, 'demand_59': demand_59}, ignore_index=True)"
   ]
  },
  {
   "cell_type": "code",
   "execution_count": 77,
   "metadata": {},
   "outputs": [
    {
     "data": {
      "text/html": [
       "<div>\n",
       "<style scoped>\n",
       "    .dataframe tbody tr th:only-of-type {\n",
       "        vertical-align: middle;\n",
       "    }\n",
       "\n",
       "    .dataframe tbody tr th {\n",
       "        vertical-align: top;\n",
       "    }\n",
       "\n",
       "    .dataframe thead th {\n",
       "        text-align: right;\n",
       "    }\n",
       "</style>\n",
       "<table border=\"1\" class=\"dataframe\">\n",
       "  <thead>\n",
       "    <tr style=\"text-align: right;\">\n",
       "      <th></th>\n",
       "      <th>p0</th>\n",
       "      <th>p59</th>\n",
       "      <th>demand_non59</th>\n",
       "      <th>demand_59</th>\n",
       "    </tr>\n",
       "  </thead>\n",
       "  <tbody>\n",
       "    <tr>\n",
       "      <td>0</td>\n",
       "      <td>35.0</td>\n",
       "      <td>35.0</td>\n",
       "      <td>771.0</td>\n",
       "      <td>227.0</td>\n",
       "    </tr>\n",
       "    <tr>\n",
       "      <td>1</td>\n",
       "      <td>35.0</td>\n",
       "      <td>36.0</td>\n",
       "      <td>781.0</td>\n",
       "      <td>217.0</td>\n",
       "    </tr>\n",
       "    <tr>\n",
       "      <td>2</td>\n",
       "      <td>35.0</td>\n",
       "      <td>37.0</td>\n",
       "      <td>788.0</td>\n",
       "      <td>210.0</td>\n",
       "    </tr>\n",
       "    <tr>\n",
       "      <td>3</td>\n",
       "      <td>35.0</td>\n",
       "      <td>38.0</td>\n",
       "      <td>792.0</td>\n",
       "      <td>206.0</td>\n",
       "    </tr>\n",
       "    <tr>\n",
       "      <td>4</td>\n",
       "      <td>35.0</td>\n",
       "      <td>39.0</td>\n",
       "      <td>797.0</td>\n",
       "      <td>201.0</td>\n",
       "    </tr>\n",
       "    <tr>\n",
       "      <td>...</td>\n",
       "      <td>...</td>\n",
       "      <td>...</td>\n",
       "      <td>...</td>\n",
       "      <td>...</td>\n",
       "    </tr>\n",
       "    <tr>\n",
       "      <td>8276</td>\n",
       "      <td>125.0</td>\n",
       "      <td>121.0</td>\n",
       "      <td>145.0</td>\n",
       "      <td>72.0</td>\n",
       "    </tr>\n",
       "    <tr>\n",
       "      <td>8277</td>\n",
       "      <td>125.0</td>\n",
       "      <td>122.0</td>\n",
       "      <td>147.0</td>\n",
       "      <td>66.0</td>\n",
       "    </tr>\n",
       "    <tr>\n",
       "      <td>8278</td>\n",
       "      <td>125.0</td>\n",
       "      <td>123.0</td>\n",
       "      <td>147.0</td>\n",
       "      <td>65.0</td>\n",
       "    </tr>\n",
       "    <tr>\n",
       "      <td>8279</td>\n",
       "      <td>125.0</td>\n",
       "      <td>124.0</td>\n",
       "      <td>147.0</td>\n",
       "      <td>63.0</td>\n",
       "    </tr>\n",
       "    <tr>\n",
       "      <td>8280</td>\n",
       "      <td>125.0</td>\n",
       "      <td>125.0</td>\n",
       "      <td>147.0</td>\n",
       "      <td>60.0</td>\n",
       "    </tr>\n",
       "  </tbody>\n",
       "</table>\n",
       "<p>8281 rows × 4 columns</p>\n",
       "</div>"
      ],
      "text/plain": [
       "         p0    p59  demand_non59  demand_59\n",
       "0      35.0   35.0         771.0      227.0\n",
       "1      35.0   36.0         781.0      217.0\n",
       "2      35.0   37.0         788.0      210.0\n",
       "3      35.0   38.0         792.0      206.0\n",
       "4      35.0   39.0         797.0      201.0\n",
       "...     ...    ...           ...        ...\n",
       "8276  125.0  121.0         145.0       72.0\n",
       "8277  125.0  122.0         147.0       66.0\n",
       "8278  125.0  123.0         147.0       65.0\n",
       "8279  125.0  124.0         147.0       63.0\n",
       "8280  125.0  125.0         147.0       60.0\n",
       "\n",
       "[8281 rows x 4 columns]"
      ]
     },
     "execution_count": 77,
     "metadata": {},
     "output_type": "execute_result"
    }
   ],
   "source": [
    "final_table"
   ]
  },
  {
   "cell_type": "markdown",
   "metadata": {},
   "source": [
    "## b) What is the correlation coefficient between d59 and p59 when p0 = 50?"
   ]
  },
  {
   "cell_type": "code",
   "execution_count": 69,
   "metadata": {},
   "outputs": [
    {
     "name": "stdout",
     "output_type": "stream",
     "text": [
      "When p0 = 50, correlation coefficient between d59 and p59 is  -0.9573817990521418\n"
     ]
    }
   ],
   "source": [
    "print('When p0 = 50, correlation coefficient between d59 and p59 is ',\n",
    "      final_table[final_table['p0']==50][['demand_59','p59']].corr().iloc[0,1])"
   ]
  },
  {
   "cell_type": "markdown",
   "metadata": {},
   "source": [
    "## c) What is the correlation coefficient between d59 and p0 when p59 = 80?"
   ]
  },
  {
   "cell_type": "code",
   "execution_count": 70,
   "metadata": {
    "scrolled": true
   },
   "outputs": [
    {
     "name": "stdout",
     "output_type": "stream",
     "text": [
      "When p59 = 80, correlation coefficient between d59 and p0 is  0.9958348747163097\n"
     ]
    }
   ],
   "source": [
    "print('When p59 = 80, correlation coefficient between d59 and p0 is ', \n",
    "      final_table[final_table['p59']==80][['demand_59','p0']].corr().iloc[0,1])"
   ]
  },
  {
   "cell_type": "markdown",
   "metadata": {},
   "source": [
    "## d) What is the correlation coefficient between d0 and p59 when p0 = 50?"
   ]
  },
  {
   "cell_type": "code",
   "execution_count": 71,
   "metadata": {},
   "outputs": [
    {
     "name": "stdout",
     "output_type": "stream",
     "text": [
      "When p0 = 50, correlation coefficient between d0 and p59 is  0.9550030069620445\n"
     ]
    }
   ],
   "source": [
    "print('When p0 = 50, correlation coefficient between d0 and p59 is ',\n",
    "      final_table[final_table['p0']==50][['demand_non59','p59']].corr().iloc[0,1])"
   ]
  },
  {
   "cell_type": "markdown",
   "metadata": {},
   "source": [
    "## e) What is the correlation coefficient between d0 and p0 when p59 = 80?"
   ]
  },
  {
   "cell_type": "code",
   "execution_count": 72,
   "metadata": {},
   "outputs": [
    {
     "name": "stdout",
     "output_type": "stream",
     "text": [
      "When p59 = 80, correlation coefficient between d59 and p0 is  -0.9919736453405684\n"
     ]
    }
   ],
   "source": [
    "print('When p59 = 80, correlation coefficient between d59 and p0 is ',\n",
    "      final_table[final_table['p59']==80][['demand_non59','p0']].corr().iloc[0,1])"
   ]
  },
  {
   "cell_type": "markdown",
   "metadata": {},
   "source": [
    "## f) Report the results (coefficients, standard errors, p-values, R-2) for the regression of d59 on p59 and p0."
   ]
  },
  {
   "cell_type": "code",
   "execution_count": 10,
   "metadata": {},
   "outputs": [
    {
     "name": "stdout",
     "output_type": "stream",
     "text": [
      "                            OLS Regression Results                            \n",
      "==============================================================================\n",
      "Dep. Variable:              demand_59   R-squared:                       0.930\n",
      "Model:                            OLS   Adj. R-squared:                  0.930\n",
      "Method:                 Least Squares   F-statistic:                 5.475e+04\n",
      "Date:                Mon, 09 Mar 2020   Prob (F-statistic):               0.00\n",
      "Time:                        13:00:32   Log-Likelihood:                -43347.\n",
      "No. Observations:                8281   AIC:                         8.670e+04\n",
      "Df Residuals:                    8278   BIC:                         8.672e+04\n",
      "Df Model:                           2                                         \n",
      "Covariance Type:            nonrobust                                         \n",
      "==============================================================================\n",
      "                 coef    std err          t      P>|t|      [0.025      0.975]\n",
      "------------------------------------------------------------------------------\n",
      "Intercept    383.6721      2.207    173.878      0.000     379.347     387.998\n",
      "p0             3.2623      0.019    171.715      0.000       3.225       3.300\n",
      "p59           -5.3741      0.019   -282.874      0.000      -5.411      -5.337\n",
      "==============================================================================\n",
      "Omnibus:                      534.125   Durbin-Watson:                   0.080\n",
      "Prob(Omnibus):                  0.000   Jarque-Bera (JB):              641.598\n",
      "Skew:                           0.676   Prob(JB):                    4.77e-140\n",
      "Kurtosis:                       3.170   Cond. No.                         514.\n",
      "==============================================================================\n",
      "\n",
      "Warnings:\n",
      "[1] Standard Errors assume that the covariance matrix of the errors is correctly specified.\n"
     ]
    }
   ],
   "source": [
    "result = sm.ols(formula=\"demand_59 ~ p0 + p59\", data=final_table).fit()\n",
    "print(result.summary())"
   ]
  },
  {
   "cell_type": "markdown",
   "metadata": {},
   "source": [
    "## g) Report the results (coefficients, standard errors, p-values, R-2) for the regression of d0 on p59 and p0."
   ]
  },
  {
   "cell_type": "code",
   "execution_count": 11,
   "metadata": {},
   "outputs": [
    {
     "name": "stdout",
     "output_type": "stream",
     "text": [
      "                            OLS Regression Results                            \n",
      "==============================================================================\n",
      "Dep. Variable:           demand_non59   R-squared:                       0.977\n",
      "Model:                            OLS   Adj. R-squared:                  0.977\n",
      "Method:                 Least Squares   F-statistic:                 1.750e+05\n",
      "Date:                Mon, 09 Mar 2020   Prob (F-statistic):               0.00\n",
      "Time:                        13:00:32   Log-Likelihood:                -43108.\n",
      "No. Observations:                8281   AIC:                         8.622e+04\n",
      "Df Residuals:                    8278   BIC:                         8.624e+04\n",
      "Df Model:                           2                                         \n",
      "Covariance Type:            nonrobust                                         \n",
      "==============================================================================\n",
      "                 coef    std err          t      P>|t|      [0.025      0.975]\n",
      "------------------------------------------------------------------------------\n",
      "Intercept   1146.7269      2.144    534.910      0.000    1142.525    1150.929\n",
      "p0           -10.4778      0.018   -567.670      0.000     -10.514     -10.442\n",
      "p59            3.0770      0.018    166.709      0.000       3.041       3.113\n",
      "==============================================================================\n",
      "Omnibus:                       37.731   Durbin-Watson:                   0.038\n",
      "Prob(Omnibus):                  0.000   Jarque-Bera (JB):               34.229\n",
      "Skew:                          -0.117   Prob(JB):                     3.69e-08\n",
      "Kurtosis:                       2.789   Cond. No.                         514.\n",
      "==============================================================================\n",
      "\n",
      "Warnings:\n",
      "[1] Standard Errors assume that the covariance matrix of the errors is correctly specified.\n"
     ]
    }
   ],
   "source": [
    "result = sm.ols(formula=\"demand_non59 ~ p0 + p59\", data=final_table).fit()\n",
    "print(result.summary())"
   ]
  },
  {
   "cell_type": "markdown",
   "metadata": {},
   "source": [
    "# Present the full mathematical revenue maximization problem"
   ]
  },
  {
   "cell_type": "code",
   "execution_count": 81,
   "metadata": {},
   "outputs": [],
   "source": [
    "final_table['revenue_59'] = final_table['demand_59']*final_table['p59']\n",
    "final_table['revenue_non59']= final_table['demand_non59']*final_table['p0']\n",
    "final_table['revenue'] = final_table['revenue_59']+final_table['revenue_non59']"
   ]
  },
  {
   "cell_type": "code",
   "execution_count": 87,
   "metadata": {
    "scrolled": true
   },
   "outputs": [
    {
     "data": {
      "text/plain": [
       "[<matplotlib.lines.Line2D at 0x7ff940506fd0>]"
      ]
     },
     "execution_count": 87,
     "metadata": {},
     "output_type": "execute_result"
    },
    {
     "data": {
      "image/png": "[encoded data removed]",
      "text/plain": [
       "<Figure size 432x288 with 1 Axes>"
      ]
     },
     "metadata": {
      "needs_background": "light"
     },
     "output_type": "display_data"
    }
   ],
   "source": [
    "temp_table = final_table[final_table['p0']==65]\n",
    "plt.plot(temp_table['p59'],temp_table['revenue'])"
   ]
  },
  {
   "cell_type": "code",
   "execution_count": 28,
   "metadata": {},
   "outputs": [
    {
     "data": {
      "text/html": [
       "<div>\n",
       "<style scoped>\n",
       "    .dataframe tbody tr th:only-of-type {\n",
       "        vertical-align: middle;\n",
       "    }\n",
       "\n",
       "    .dataframe tbody tr th {\n",
       "        vertical-align: top;\n",
       "    }\n",
       "\n",
       "    .dataframe thead th {\n",
       "        text-align: right;\n",
       "    }\n",
       "</style>\n",
       "<table border=\"1\" class=\"dataframe\">\n",
       "  <thead>\n",
       "    <tr style=\"text-align: right;\">\n",
       "      <th></th>\n",
       "      <th>p0</th>\n",
       "      <th>p59</th>\n",
       "      <th>demand_non59</th>\n",
       "      <th>demand_59</th>\n",
       "      <th>revenue_59</th>\n",
       "      <th>revenue_non59</th>\n",
       "      <th>revenue</th>\n",
       "    </tr>\n",
       "  </thead>\n",
       "  <tbody>\n",
       "    <tr>\n",
       "      <td>2778</td>\n",
       "      <td>65.0</td>\n",
       "      <td>83.0</td>\n",
       "      <td>801.0</td>\n",
       "      <td>123.0</td>\n",
       "      <td>10209.0</td>\n",
       "      <td>52065.0</td>\n",
       "      <td>62274.0</td>\n",
       "    </tr>\n",
       "  </tbody>\n",
       "</table>\n",
       "</div>"
      ],
      "text/plain": [
       "        p0   p59  demand_non59  demand_59  revenue_59  revenue_non59  revenue\n",
       "2778  65.0  83.0         801.0      123.0     10209.0        52065.0  62274.0"
      ]
     },
     "execution_count": 28,
     "metadata": {},
     "output_type": "execute_result"
    }
   ],
   "source": [
    "temp_table.loc[temp_table[\"revenue\"]==temp_table.loc[:,\"revenue\"].max()]"
   ]
  },
  {
   "cell_type": "markdown",
   "metadata": {},
   "source": [
    "## Global p0 p59 for Max Revenue"
   ]
  },
  {
   "cell_type": "code",
   "execution_count": 15,
   "metadata": {},
   "outputs": [
    {
     "data": {
      "text/plain": [
       "[<matplotlib.lines.Line2D at 0x7ff950494350>]"
      ]
     },
     "execution_count": 15,
     "metadata": {},
     "output_type": "execute_result"
    },
    {
     "data": {
      "image/png": "[encoded data removed]",
      "text/plain": [
       "<Figure size 432x288 with 1 Axes>"
      ]
     },
     "metadata": {
      "needs_background": "light"
     },
     "output_type": "display_data"
    }
   ],
   "source": [
    "plt.plot(final_table['revenue'])"
   ]
  },
  {
   "cell_type": "code",
   "execution_count": 16,
   "metadata": {},
   "outputs": [
    {
     "data": {
      "text/html": [
       "<div>\n",
       "<style scoped>\n",
       "    .dataframe tbody tr th:only-of-type {\n",
       "        vertical-align: middle;\n",
       "    }\n",
       "\n",
       "    .dataframe tbody tr th {\n",
       "        vertical-align: top;\n",
       "    }\n",
       "\n",
       "    .dataframe thead th {\n",
       "        text-align: right;\n",
       "    }\n",
       "</style>\n",
       "<table border=\"1\" class=\"dataframe\">\n",
       "  <thead>\n",
       "    <tr style=\"text-align: right;\">\n",
       "      <th></th>\n",
       "      <th>p0</th>\n",
       "      <th>p59</th>\n",
       "      <th>demand_non59</th>\n",
       "      <th>demand_59</th>\n",
       "      <th>revenue_59</th>\n",
       "      <th>revenue_non59</th>\n",
       "      <th>revenue</th>\n",
       "    </tr>\n",
       "  </thead>\n",
       "  <tbody>\n",
       "    <tr>\n",
       "      <td>3771</td>\n",
       "      <td>76.0</td>\n",
       "      <td>75.0</td>\n",
       "      <td>636.0</td>\n",
       "      <td>210.0</td>\n",
       "      <td>15750.0</td>\n",
       "      <td>48336.0</td>\n",
       "      <td>64086.0</td>\n",
       "    </tr>\n",
       "  </tbody>\n",
       "</table>\n",
       "</div>"
      ],
      "text/plain": [
       "        p0   p59  demand_non59  demand_59  revenue_59  revenue_non59  revenue\n",
       "3771  76.0  75.0         636.0      210.0     15750.0        48336.0  64086.0"
      ]
     },
     "execution_count": 16,
     "metadata": {},
     "output_type": "execute_result"
    }
   ],
   "source": [
    "final_table.loc[final_table[\"revenue\"]==final_table.loc[:,\"revenue\"].max()]"
   ]
  }
 ],
 "metadata": {
  "kernelspec": {
   "display_name": "Python 3",
   "language": "python",
   "name": "python3"
  },
  "language_info": {
   "codemirror_mode": {
    "name": "ipython",
    "version": 3
   },
   "file_extension": ".py",
   "mimetype": "text/x-python",
   "name": "python",
   "nbconvert_exporter": "python",
   "pygments_lexer": "ipython3",
   "version": "3.7.4"
  }
 },
 "nbformat": 4,
 "nbformat_minor": 2
}
