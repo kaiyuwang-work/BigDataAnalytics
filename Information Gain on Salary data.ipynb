{
 "cells": [
  {
   "cell_type": "code",
   "execution_count": 19,
   "metadata": {},
   "outputs": [],
   "source": [
    "import pandas as pd\n",
    "import math"
   ]
  },
  {
   "cell_type": "code",
   "execution_count": 2,
   "metadata": {},
   "outputs": [],
   "source": [
    "data = pd.read_csv(\"salary.csv\")"
   ]
  },
  {
   "cell_type": "code",
   "execution_count": 3,
   "metadata": {},
   "outputs": [
    {
     "data": {
      "text/html": [
       "<div>\n",
       "<style scoped>\n",
       "    .dataframe tbody tr th:only-of-type {\n",
       "        vertical-align: middle;\n",
       "    }\n",
       "\n",
       "    .dataframe tbody tr th {\n",
       "        vertical-align: top;\n",
       "    }\n",
       "\n",
       "    .dataframe thead th {\n",
       "        text-align: right;\n",
       "    }\n",
       "</style>\n",
       "<table border=\"1\" class=\"dataframe\">\n",
       "  <thead>\n",
       "    <tr style=\"text-align: right;\">\n",
       "      <th></th>\n",
       "      <th>Occupation</th>\n",
       "      <th>Gender</th>\n",
       "      <th>Age</th>\n",
       "      <th>Salary</th>\n",
       "    </tr>\n",
       "  </thead>\n",
       "  <tbody>\n",
       "    <tr>\n",
       "      <td>0</td>\n",
       "      <td>1</td>\n",
       "      <td>0</td>\n",
       "      <td>3</td>\n",
       "      <td>3</td>\n",
       "    </tr>\n",
       "    <tr>\n",
       "      <td>1</td>\n",
       "      <td>1</td>\n",
       "      <td>1</td>\n",
       "      <td>1</td>\n",
       "      <td>1</td>\n",
       "    </tr>\n",
       "    <tr>\n",
       "      <td>2</td>\n",
       "      <td>1</td>\n",
       "      <td>1</td>\n",
       "      <td>2</td>\n",
       "      <td>2</td>\n",
       "    </tr>\n",
       "    <tr>\n",
       "      <td>3</td>\n",
       "      <td>2</td>\n",
       "      <td>1</td>\n",
       "      <td>1</td>\n",
       "      <td>3</td>\n",
       "    </tr>\n",
       "    <tr>\n",
       "      <td>4</td>\n",
       "      <td>2</td>\n",
       "      <td>0</td>\n",
       "      <td>2</td>\n",
       "      <td>4</td>\n",
       "    </tr>\n",
       "  </tbody>\n",
       "</table>\n",
       "</div>"
      ],
      "text/plain": [
       "   Occupation  Gender  Age  Salary\n",
       "0           1       0    3       3\n",
       "1           1       1    1       1\n",
       "2           1       1    2       2\n",
       "3           2       1    1       3\n",
       "4           2       0    2       4"
      ]
     },
     "execution_count": 3,
     "metadata": {},
     "output_type": "execute_result"
    }
   ],
   "source": [
    "data.head()"
   ]
  },
  {
   "cell_type": "code",
   "execution_count": 122,
   "metadata": {},
   "outputs": [],
   "source": [
    "def calculateEntropy(attribute,data):\n",
    "    size = data.shape[0]\n",
    "    x = data[attribute].unique()\n",
    "    h = 0\n",
    "    for i in range(len(x)):\n",
    "\n",
    "        temp2 = data[data[attribute]== x[i]]\n",
    "        temp = temp2.shape[0]\n",
    "        #     print(x[i],temp)\n",
    "        \n",
    "        log=math.log((temp/size),2)\n",
    "#         print(\"log \",log)\n",
    "        value = -1*(temp/size)*log\n",
    "        print('[Label', x[i],'] has ',temp,\" observations out of total \",size,\" with value of entropy\", value)\n",
    "#         print(\"and it's belonging entropy is \",value)\n",
    "        h = h+value\n",
    "    \n",
    "    print(attribute,\"'s overall Entropy is \", h)\n",
    "    return h"
   ]
  },
  {
   "cell_type": "code",
   "execution_count": 123,
   "metadata": {},
   "outputs": [
    {
     "name": "stdout",
     "output_type": "stream",
     "text": [
      "[Label 3 ] has  4  observations out of total  11  with value of entropy 0.530702406777199\n",
      "[Label 1 ] has  2  observations out of total  11  with value of entropy 0.44716938520678134\n",
      "[Label 2 ] has  3  observations out of total  11  with value of entropy 0.5112188503407658\n",
      "[Label 4 ] has  2  observations out of total  11  with value of entropy 0.44716938520678134\n",
      "Salary 's overall Entropy is  1.9362600275315274\n"
     ]
    }
   ],
   "source": [
    "salary_entropy = calculateEntropy(\"Salary\",data)"
   ]
  },
  {
   "cell_type": "code",
   "execution_count": 178,
   "metadata": {},
   "outputs": [],
   "source": [
    "def calculate_Entropy_attribute(attribute,target,data):\n",
    "    size = data.shape[0]\n",
    "#     print('size',size)\n",
    "    x = data[attribute].unique()\n",
    "    y = data[target].unique()\n",
    "    overall_entropy = 0\n",
    "    for i in range(len(x)):\n",
    "        \n",
    "        temp2 = data[data[attribute]== x[i]] #calculate lable\n",
    "        temp = temp2.shape[0] #label size\n",
    "        h=0\n",
    "        for j in range(len(y)):\n",
    "            \n",
    "            label_to_target = temp2[temp2[target]==y[j]]\n",
    "            label_to_target_size = label_to_target.shape[0]\n",
    "#             print(label_to_target_size)\n",
    "            if (label_to_target_size == 0):\n",
    "                value = 0\n",
    "            else:\n",
    "                log=math.log((label_to_target_size/temp2.shape[0]),2)\n",
    "#         print(\"log \",log)\n",
    "                value = -1*((label_to_target_size/temp2.shape[0]))*log\n",
    "            print(attribute,'[Label', x[i],'] has total',temp,\"rows and\",label_to_target_size,\"observation for\", target,\" label\",y[j],\" with value of entropy\", value)\n",
    "#         print(\"and it's belonging entropy is \",value)\n",
    "            h = h+value\n",
    "        print(\"h \",h)\n",
    "        print(\"proportion weight is \",temp/size)\n",
    "        h_weight = (temp/size)*h\n",
    "        print(\"h*proportion weight\",h_weight)\n",
    "        print(\"\\n\")\n",
    "        overall_entropy = overall_entropy+h_weight\n",
    "    print(\"\\n\")\n",
    "    print(attribute,\"'s overall Entropy is \", overall_entropy)\n",
    "    return overall_entropy"
   ]
  },
  {
   "cell_type": "code",
   "execution_count": 179,
   "metadata": {},
   "outputs": [
    {
     "name": "stdout",
     "output_type": "stream",
     "text": [
      "Gender [Label 0 ] has total 5 rows and 2 observation for Salary  label 3  with value of entropy 0.5287712379549449\n",
      "Gender [Label 0 ] has total 5 rows and 0 observation for Salary  label 1  with value of entropy 0\n",
      "Gender [Label 0 ] has total 5 rows and 1 observation for Salary  label 2  with value of entropy 0.46438561897747244\n",
      "Gender [Label 0 ] has total 5 rows and 2 observation for Salary  label 4  with value of entropy 0.5287712379549449\n",
      "h  1.5219280948873621\n",
      "proportion weight is  0.45454545454545453\n",
      "h*proportion weight 0.6917854976760737\n",
      "\n",
      "\n",
      "Gender [Label 1 ] has total 6 rows and 2 observation for Salary  label 3  with value of entropy 0.5283208335737187\n",
      "Gender [Label 1 ] has total 6 rows and 2 observation for Salary  label 1  with value of entropy 0.5283208335737187\n",
      "Gender [Label 1 ] has total 6 rows and 2 observation for Salary  label 2  with value of entropy 0.5283208335737187\n",
      "Gender [Label 1 ] has total 6 rows and 0 observation for Salary  label 4  with value of entropy 0\n",
      "h  1.584962500721156\n",
      "proportion weight is  0.5454545454545454\n",
      "h*proportion weight 0.8645250003933578\n",
      "\n",
      "\n",
      "\n",
      "\n",
      "Gender 's overall Entropy is  1.5563104980694313\n"
     ]
    }
   ],
   "source": [
    "gender_entropy=calculate_Entropy_attribute(\"Gender\",\"Salary\",data)"
   ]
  },
  {
   "cell_type": "code",
   "execution_count": 176,
   "metadata": {},
   "outputs": [
    {
     "name": "stdout",
     "output_type": "stream",
     "text": [
      "Age [Label 3 ] has total 3 rows and 2 observation for Salary  label 3  with value of entropy 0.38997500048077083\n",
      "Age [Label 3 ] has total 3 rows and 0 observation for Salary  label 1  with value of entropy 0\n",
      "Age [Label 3 ] has total 3 rows and 0 observation for Salary  label 2  with value of entropy 0\n",
      "Age [Label 3 ] has total 3 rows and 1 observation for Salary  label 4  with value of entropy 0.5283208335737187\n",
      "h  0.9182958340544896\n",
      "proportion weight is  0.2727272727272727\n",
      "h*proportion weight 0.2504443183784971\n",
      "Age [Label 1 ] has total 3 rows and 1 observation for Salary  label 3  with value of entropy 0.5283208335737187\n",
      "Age [Label 1 ] has total 3 rows and 2 observation for Salary  label 1  with value of entropy 0.38997500048077083\n",
      "Age [Label 1 ] has total 3 rows and 0 observation for Salary  label 2  with value of entropy 0\n",
      "Age [Label 1 ] has total 3 rows and 0 observation for Salary  label 4  with value of entropy 0\n",
      "h  0.9182958340544896\n",
      "proportion weight is  0.2727272727272727\n",
      "h*proportion weight 0.2504443183784971\n",
      "Age [Label 2 ] has total 4 rows and 1 observation for Salary  label 3  with value of entropy 0.5\n",
      "Age [Label 2 ] has total 4 rows and 0 observation for Salary  label 1  with value of entropy 0\n",
      "Age [Label 2 ] has total 4 rows and 2 observation for Salary  label 2  with value of entropy 0.5\n",
      "Age [Label 2 ] has total 4 rows and 1 observation for Salary  label 4  with value of entropy 0.5\n",
      "h  1.5\n",
      "proportion weight is  0.36363636363636365\n",
      "h*proportion weight 0.5454545454545454\n",
      "Age [Label 4 ] has total 1 rows and 0 observation for Salary  label 3  with value of entropy 0\n",
      "Age [Label 4 ] has total 1 rows and 0 observation for Salary  label 1  with value of entropy 0\n",
      "Age [Label 4 ] has total 1 rows and 1 observation for Salary  label 2  with value of entropy -0.0\n",
      "Age [Label 4 ] has total 1 rows and 0 observation for Salary  label 4  with value of entropy 0\n",
      "h  0.0\n",
      "proportion weight is  0.09090909090909091\n",
      "h*proportion weight 0.0\n",
      "\n",
      "\n",
      "Age 's overall Entropy is  1.0463431822115397\n"
     ]
    }
   ],
   "source": [
    "age_entropy=calculate_Entropy_attribute(\"Age\",\"Salary\",data)"
   ]
  },
  {
   "cell_type": "code",
   "execution_count": 177,
   "metadata": {},
   "outputs": [
    {
     "name": "stdout",
     "output_type": "stream",
     "text": [
      "Occupation [Label 1 ] has total 3 rows and 1 observation for Salary  label 3  with value of entropy 0.5283208335737187\n",
      "Occupation [Label 1 ] has total 3 rows and 1 observation for Salary  label 1  with value of entropy 0.5283208335737187\n",
      "Occupation [Label 1 ] has total 3 rows and 1 observation for Salary  label 2  with value of entropy 0.5283208335737187\n",
      "Occupation [Label 1 ] has total 3 rows and 0 observation for Salary  label 4  with value of entropy 0\n",
      "h  1.584962500721156\n",
      "proportion weight is  0.2727272727272727\n",
      "h*proportion weight 0.4322625001966789\n",
      "Occupation [Label 2 ] has total 4 rows and 2 observation for Salary  label 3  with value of entropy 0.5\n",
      "Occupation [Label 2 ] has total 4 rows and 0 observation for Salary  label 1  with value of entropy 0\n",
      "Occupation [Label 2 ] has total 4 rows and 0 observation for Salary  label 2  with value of entropy 0\n",
      "Occupation [Label 2 ] has total 4 rows and 2 observation for Salary  label 4  with value of entropy 0.5\n",
      "h  1.0\n",
      "proportion weight is  0.36363636363636365\n",
      "h*proportion weight 0.36363636363636365\n",
      "Occupation [Label 3 ] has total 2 rows and 1 observation for Salary  label 3  with value of entropy 0.5\n",
      "Occupation [Label 3 ] has total 2 rows and 0 observation for Salary  label 1  with value of entropy 0\n",
      "Occupation [Label 3 ] has total 2 rows and 1 observation for Salary  label 2  with value of entropy 0.5\n",
      "Occupation [Label 3 ] has total 2 rows and 0 observation for Salary  label 4  with value of entropy 0\n",
      "h  1.0\n",
      "proportion weight is  0.18181818181818182\n",
      "h*proportion weight 0.18181818181818182\n",
      "Occupation [Label 4 ] has total 2 rows and 0 observation for Salary  label 3  with value of entropy 0\n",
      "Occupation [Label 4 ] has total 2 rows and 1 observation for Salary  label 1  with value of entropy 0.5\n",
      "Occupation [Label 4 ] has total 2 rows and 1 observation for Salary  label 2  with value of entropy 0.5\n",
      "Occupation [Label 4 ] has total 2 rows and 0 observation for Salary  label 4  with value of entropy 0\n",
      "h  1.0\n",
      "proportion weight is  0.18181818181818182\n",
      "h*proportion weight 0.18181818181818182\n",
      "\n",
      "\n",
      "Occupation 's overall Entropy is  1.1595352274694062\n"
     ]
    }
   ],
   "source": [
    "occupation_entropy = calculate_Entropy_attribute(\"Occupation\",\"Salary\",data)"
   ]
  },
  {
   "cell_type": "code",
   "execution_count": null,
   "metadata": {},
   "outputs": [],
   "source": []
  },
  {
   "cell_type": "code",
   "execution_count": null,
   "metadata": {},
   "outputs": [],
   "source": []
  }
 ],
 "metadata": {
  "kernelspec": {
   "display_name": "Python 3",
   "language": "python",
   "name": "python3"
  },
  "language_info": {
   "codemirror_mode": {
    "name": "ipython",
    "version": 3
   },
   "file_extension": ".py",
   "mimetype": "text/x-python",
   "name": "python",
   "nbconvert_exporter": "python",
   "pygments_lexer": "ipython3",
   "version": "3.7.4"
  }
 },
 "nbformat": 4,
 "nbformat_minor": 2
}
